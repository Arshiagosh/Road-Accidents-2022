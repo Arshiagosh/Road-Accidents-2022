{
 "cells": [
  {
   "cell_type": "markdown",
   "metadata": {},
   "source": [
    "# Road Accidents 2022\n",
    "- By **Arshia Goshtasbi**\n",
    "- Github: [@Arshiagosh](https://github.com/Arshiagosh)\n",
    "\n",
    "**Description:**\n",
    "\n",
    "This comprehensive dataset provides detailed information on road accidents reported over multiple years. The dataset encompasses various attributes related to accident status, vehicle and casualty references, demographics, and severity of casualties. It includes essential factors such as pedestrian details, casualty types, road maintenance worker involvement, and the Index of Multiple Deprivation (IMD) decile for casualties' home areThis dataset provides valuable insights for analyzing road accidents, identifying trends, and implementing safety measures to reduce casualties and enhance road safety. Researchers, policymakers, and analysts can leverage this dataset for evidence-based decision-making and improving overall road transportation systems.road transportation systems."
   ]
  },
  {
   "cell_type": "markdown",
   "metadata": {},
   "source": [
    "## Analyse"
   ]
  },
  {
   "cell_type": "markdown",
   "metadata": {},
   "source": [
    "### Importing Libraries"
   ]
  },
  {
   "cell_type": "code",
   "execution_count": null,
   "metadata": {
    "ExecuteTime": {
     "end_time": "2024-03-06T19:34:42.282949Z",
     "start_time": "2024-03-06T19:34:34.700199Z"
    }
   },
   "outputs": [],
   "source": [
    "# Importing necessary libraries\n",
    "import pandas as pd\n",
    "import seaborn as sns\n",
    "import matplotlib.pyplot as plt\n",
    "\n",
    "# Importing Libraries for Visualization\n",
    "import folium\n",
    "from geopy.geocoders import Nominatim\n"
   ]
  },
  {
   "cell_type": "markdown",
   "metadata": {},
   "source": [
    "### Data Loading and Preprocessing\n",
    "\n",
    "- **Purpose:** Load the dataset and perform initial preprocessing steps such as removing duplicates and irrelevant columns.\n",
    "\n",
    "- **Actions:**\n",
    "    - Loaded the main dataset.\n",
    "    - Removed duplicates and irrelevant columns.\n",
    "    - Displayed information about the dataset.\n"
   ]
  },
  {
   "cell_type": "code",
   "execution_count": null,
   "metadata": {
    "ExecuteTime": {
     "end_time": "2024-03-06T19:34:44.030321Z",
     "start_time": "2024-03-06T19:34:42.289080Z"
    }
   },
   "outputs": [],
   "source": [
    "# Load the data guide and the main dataset\n",
    "df = pd.read_csv('statistics.csv')\n",
    "\n",
    "# Data Preprocessing\n",
    "df.drop_duplicates(inplace=True)\n",
    "df.drop(inplace=True, columns=['status', 'vehicle_reference',\n",
    "                               'casualty_reference', 'accident_index',\n",
    "                               'accident_year', 'accident_reference'])\n",
    "df = df[~df.isin([-1]).any(axis=1)]\n",
    "\n",
    "# Display dataset info\n",
    "df.info()"
   ]
  },
  {
   "cell_type": "markdown",
   "metadata": {},
   "source": [
    "#### Columns:\n",
    "***Status***: The status of the accident (e.g., reported, under investigation).\\\n",
    "***Accident_Index***: A unique identifier for each reported accident.\\\n",
    "***Accident_Year***: The year in which the accident occurred.\\\n",
    "***Accident_Reference***: A reference number associated with the accident.\\\n",
    "***Vehicle_Reference***: A reference number for the involved vehicle in the accident.\\\n",
    "***Casualty_Reference***: A reference number for the casualty involved in the accident.\\\n",
    "***Casualty_Class***: Indicates the class of the casualty (e.g., driver, passenger, pedestrian).\\\n",
    "***Sex_of_Casualty***: The gender of the casualty (male or female).\\\n",
    "***Age_of_Casualty***: The age of the casualty.\\\n",
    "***Age_Band_of_Casualty***: Age group to which the casualty belongs (e.g., 0-5, 6-10, 11-15).\\\n",
    "***Casualty_Severity***: The severity of the casualty's injuries (e.g., fatal, serious, slight).\\\n",
    "***Pedestrian_Location***: The location of the pedestrian at the time of the accident.\\\n",
    "***Pedestrian_Movement***: The movement of the pedestrian during the accident.\\\n",
    "***Car_Passenger***: Indicates whether the casualty was a car passenger at the time of the accident (yes or no).\\\n",
    "***Bus_or_Coach_Passenger***: Indicates whether the casualty was a bus or coach passenger (yes or no).\\\n",
    "***Pedestrian_Road_Maintenance_Worker***: Indicates whether the casualty was a road maintenance worker (yes or no).\\\n",
    "***Casualty_Type***: The type of casualty (e.g., driver/rider, passenger, pedestrian).\\\n",
    "***Casualty_Home_Area_Type***: The type of area in which the casualty resides (e.g., urban, rural).\\\n",
    "***Casualty_IMD_Decile***: The IMD decile of the area where the casualty resides (a measure of deprivation).\\\n",
    "***LSOA_of_Casualty***: The Lower Layer Super Output Area (LSOA) associated with the casualty's location."
   ]
  },
  {
   "cell_type": "markdown",
   "metadata": {},
   "source": [
    "### Data Dictionary\n",
    "This information is given in the ***data_guide.xlsx*** file.\n",
    "-  **Purpose:** Define dictionaries to map numeric codes to their corresponding categorical values for better interpretation of the dataset.\n",
    "-  **Actions:**\n",
    "- Created dictionaries to map various codes in the dataset to their meanings."
   ]
  },
  {
   "cell_type": "code",
   "execution_count": null,
   "metadata": {
    "ExecuteTime": {
     "end_time": "2024-03-06T19:34:44.440333Z",
     "start_time": "2024-03-06T19:34:44.175406Z"
    }
   },
   "outputs": [],
   "source": [
    "casualty_class = {\n",
    "                    '1':'Driver or Rider',\n",
    "                    '2':'Passenger',\n",
    "                    '3':'Pedestrian'}\n",
    "sex_of_casualty = {\n",
    "                    '1':'Male',\n",
    "                    '2':'Female',\n",
    "                    '9':'unknown (self reported)',\n",
    "                    '-1':'Data missing or out of range'}\n",
    "age_band_of_casualty = {\n",
    "                    '1':'0 - 5',\n",
    "                    '2':'6 - 10',\n",
    "                    '3':'11 - 15',\n",
    "                    '4':'16 - 20',\n",
    "                    '5':'21 - 25',\n",
    "                    '6':'26 - 35',\n",
    "                    '7':'36 - 45',\n",
    "                    '8':'46 - 55',\n",
    "                    '9':'56 - 65',\n",
    "                    '10':'66 - 75',\n",
    "                    '11':'Over 75',\n",
    "                    '-1':'Data missing or out of range'}\n",
    "casualty_severity = {'1':'Fatal',\n",
    "                    '2':'Serious',\n",
    "                    '3':'Slight'}\n",
    "pedestrian_location = {\n",
    "                    '0': 'Not a Pedestrian',\n",
    "                    '1': 'Crossing on pedestrian crossing facility',\n",
    "                    '2': 'Crossing in zig-zag approach lines',\n",
    "                    '3': 'Crossing in zig-zag exit lines',\n",
    "                    '4': 'Crossing elsewhere within 50m. of pedestrian crossing',\n",
    "                    '5': 'In carriageway, crossing elsewhere',\n",
    "                    '6': 'On footway or verge',\n",
    "                    '7': 'On refuge, central island or central reservation',\n",
    "                    '8': 'In centre of carriageway - not on refuge, island or central reservation',\n",
    "                    '9': 'In carriageway, not crossing',\n",
    "                    '10': 'Unknown or other',\n",
    "                    '-1': 'Data missing or out of range'}\n",
    "pedestrian_movement = {\n",
    "                    '0': 'Not a Pedestrian',\n",
    "                    '1': \"Crossing from driver's nearside\",\n",
    "                    '2': 'Crossing from nearside - masked by parked or stationary vehicle',\n",
    "                    '3': \"Crossing from driver's offside\",\n",
    "                    '4': 'Crossing from offside - masked by parked or stationary vehicle',\n",
    "                    '5': 'In carriageway, stationary - not crossing  (standing or playing)',\n",
    "                    '6': 'In carriageway, stationary - not crossing  (standing or playing) - masked by parked or stationary vehicle',\n",
    "                    '7': 'Walking along in carriageway, facing traffic',\n",
    "                    '8': 'Walking along in carriageway, back to traffic',\n",
    "                    '9': 'Unknown or other',\n",
    "                    '-1': 'Data missing or out of range'}\n",
    "car_passenger = {\n",
    "                    '0': 'Not car passenger',\n",
    "                    '1': 'Front seat passenger',\n",
    "                    '2': 'Rear seat passenger',\n",
    "                    '9': 'Unknown (self reported)',\n",
    "                    '-1': 'Data missing or out of range'}\n",
    "bus_or_coach_passenger = {\n",
    "                    '0': 'Not a bus or coach passenger',\n",
    "                    '1': 'Boarding',\n",
    "                    '2': 'Alighting',\n",
    "                    '3': 'Standing passenger',\n",
    "                    '4': 'Seated passenger',\n",
    "                    '9': 'Unknown (self reported)',\n",
    "                    '-1': 'Data missing or out of range'}\n",
    "pedestrian_road_maintenance_worker = {\n",
    "                    '0': 'No / Not applicable',\n",
    "                    '1': 'Yes',\n",
    "                    '2': 'Not Known',\n",
    "                    '3': 'Probable',\n",
    "                    '-1': 'Data missing or out of range'}\n",
    "casualty_type = {\n",
    "                    '0': 'Pedestrian',\n",
    "                    '1': 'Cyclist',\n",
    "                    '2': 'Motorcycle 50cc and under rider or passenger',\n",
    "                    '3': 'Motorcycle 125cc and under rider or passenger',\n",
    "                    '4': 'Motorcycle over 125cc and up to 500cc rider or passenger',\n",
    "                    '5': 'Motorcycle over 500cc rider or passenger',\n",
    "                    '8': 'Taxi/Private hire car occupant',\n",
    "                    '9': 'Car occupant',\n",
    "                    '10': 'Minibus (8 - 16 passenger seats) occupant',\n",
    "                    '11': 'Bus or coach occupant (17 or more pass seats)',\n",
    "                    '16': 'Horse rider',\n",
    "                    '17': 'Agricultural vehicle occupant',\n",
    "                    '18': 'Tram occupant',\n",
    "                    '19': 'Van / Goods vehicle (3.5 tonnes mgw or under) occupant',\n",
    "                    '20': 'Goods vehicle (over 3.5t. and under 7.5t.) occupant',\n",
    "                    '21': 'Goods vehicle (7.5 tonnes mgw and over) occupant',\n",
    "                    '22': 'Mobility scooter rider',\n",
    "                    '23': 'Electric motorcycle rider or passenger',\n",
    "                    '90': 'Other vehicle occupant',\n",
    "                    '97': 'Motorcycle - unknown cc rider or passenger',\n",
    "                    '98': 'Goods vehicle (unknown weight) occupant',\n",
    "                    '99': 'Unknown vehicle type (self rep only)',\n",
    "                    '103': 'Motorcycle - Scooter (1979-1998)',\n",
    "                    '104': 'Motorcycle (1979-1998)',\n",
    "                    '105': 'Motorcycle - Combination (1979-1998)',\n",
    "                    '106': 'Motorcycle over 125cc (1999-2004)',\n",
    "                    '108': 'Taxi (excluding private hire cars) (1979-2004)',\n",
    "                    '109': 'Car (including private hire cars) (1979-2004)',\n",
    "                    '110': 'Minibus/Motor caravan (1979-1998)',\n",
    "                    '113': 'Goods over 3.5 tonnes (1979-1998)',\n",
    "                    '-1': 'Data missing or out of range'}\n",
    "casualty_home_area_type = {\n",
    "                    '1': 'Urban area',\n",
    "                    '2': 'Small town',\n",
    "                    '3': 'Rural',\n",
    "                    '-1': 'Data missing or out of range'}\n",
    "casualty_imd_decile = {\n",
    "                    '1': 'Most deprived 10%',\n",
    "                    '2': 'More deprived 10-20%',\n",
    "                    '3': 'More deprived 20-30%',\n",
    "                    '4': 'More deprived 30-40%',\n",
    "                    '5': 'More deprived 40-50%',\n",
    "                    '6': 'Less deprived 40-50%',\n",
    "                    '7': 'Less deprived 30-40%',\n",
    "                    '8': 'Less deprived 20-30%',\n",
    "                    '9': 'Less deprived 10-20%',\n",
    "                    '10': 'Least deprived 10%',\n",
    "                    '-1': 'Data missing or out of range'}"
   ]
  },
  {
   "cell_type": "markdown",
   "metadata": {},
   "source": [
    "### Correlation Analysis\n",
    "\n",
    "- **Purpose:** Investigate the correlation between different features in the dataset.\n",
    "\n",
    "- **Actions:**\n",
    "    - Calculated the correlation matrix for selected columns.\n",
    "    - Plotted a heatmap to visualize the correlation matrix.\n"
   ]
  },
  {
   "cell_type": "code",
   "execution_count": null,
   "metadata": {
    "ExecuteTime": {
     "end_time": "2024-03-06T19:34:51.143118Z",
     "start_time": "2024-03-06T19:34:44.453788Z"
    }
   },
   "outputs": [],
   "source": [
    "# Calculate the correlation matrix and plot a heatmap\n",
    "columns_for_correlation = df.columns.difference(['lsoa_of_casualty'])\n",
    "correlation_matrix = df[columns_for_correlation].corr()\n",
    "\n",
    "plt.figure(figsize=(8, 6))\n",
    "sns.heatmap(correlation_matrix, annot=True, cmap='coolwarm', fmt=\".2f\", linewidths=0.5)\n",
    "plt.title('Correlation Heatmap of Features (Excluding \"lsoa_of_casualty\")')\n",
    "plt.show()"
   ]
  },
  {
   "cell_type": "markdown",
   "metadata": {},
   "source": [
    "### Casualty Class and Severity Analysis\n",
    "\n",
    "- **Purpose:** Explore the distribution of casualties based on casualty class and severity.\n",
    "\n",
    "- **Actions:**\n",
    "    - Grouped the data by casualty class and severity.\n",
    "    - Plotted a stacked bar chart to visualize the distribution.\n",
    "    - Added percentage labels to each bar to show the proportion of each severity level within each casualty class.\n"
   ]
  },
  {
   "cell_type": "code",
   "execution_count": null,
   "metadata": {
    "ExecuteTime": {
     "end_time": "2024-03-06T19:34:52.636657Z",
     "start_time": "2024-03-06T19:34:51.148133Z"
    }
   },
   "outputs": [],
   "source": [
    "# Group data by casualty class and severity, and plot a stacked bar chart\n",
    "grouped_data = df.groupby(['casualty_class', 'casualty_severity']).size().unstack(fill_value=0)\n",
    "grouped_data.columns = [casualty_severity[str(col)] for col in grouped_data.columns]\n",
    "grouped_data.index = [casualty_class[str(idx)] for idx in grouped_data.index]\n",
    "grouped_data = grouped_data.iloc[:, ::-1]\n",
    "\n",
    "ax = grouped_data.plot(kind='bar', stacked=True)\n",
    "plt.xlabel('Casualty Class')\n",
    "plt.ylabel('Count')\n",
    "plt.title('Distribution of Casualties by Casualty Class and Severity')\n",
    "plt.xticks(rotation=45, ha='right')\n",
    "# Add percentage labels to each bar\n",
    "sum_of_each_bar = []\n",
    "for i in range(0,3):\n",
    "    sum_of_each_bar.append((ax.patches[i].get_height())+(ax.patches[i+3].get_height())+(ax.patches[i+6].get_height()))\n",
    "\n",
    "for i in range(0,9):\n",
    "    bar = ax.patches[i]\n",
    "    width = bar.get_width()\n",
    "    height = bar.get_height()\n",
    "    x, y = bar.get_xy()\n",
    "    ax.annotate(f'%{(100*height/sum_of_each_bar[i%3]):.2f}', (x + width/2, y+800), ha='center', va='center', fontsize=8, color='black', weight=\"bold\")\n",
    "\n",
    "plt.legend(title='Severity', bbox_to_anchor=(1.05, 1), loc='upper left')\n",
    "plt.tight_layout()\n",
    "plt.show()"
   ]
  },
  {
   "cell_type": "markdown",
   "metadata": {},
   "source": [
    "### Gender Distribution Analysis\n",
    "\n",
    "- **Purpose:** Investigate the distribution of casualties based on gender.\n",
    "\n",
    "- **Actions:**\n",
    "    - Counted the number of casualties by gender.\n",
    "    - Plotted a pie chart to visualize the distribution of casualties by gender.\n"
   ]
  },
  {
   "cell_type": "code",
   "execution_count": null,
   "metadata": {
    "ExecuteTime": {
     "end_time": "2024-03-06T19:34:53.703889Z",
     "start_time": "2024-03-06T19:34:52.648685Z"
    }
   },
   "outputs": [],
   "source": [
    "# Analyze distribution of casualties by gender\n",
    "value_counts = df['sex_of_casualty'].value_counts()\n",
    "x_labels = [sex_of_casualty[str(val)] for val in value_counts.index]\n",
    "gender_counts = df['sex_of_casualty'].value_counts()\n",
    "\n",
    "plt.pie(gender_counts, labels=x_labels, autopct='%1.1f%%', startangle=140, colors=['skyblue', 'lightcoral'])\n",
    "plt.axis('equal')\n",
    "plt.title('Distribution of Casualties by Gender')\n",
    "plt.show()\n"
   ]
  },
  {
   "cell_type": "markdown",
   "metadata": {},
   "source": [
    "### Gender-Based Casualty Class Analysis\n",
    "\n",
    "- **Purpose:** Compare the distribution of casualty classes between males and females.\n",
    "\n",
    "- **Actions:**\n",
    "    - Separated the data by gender.\n",
    "    - Calculated value counts for casualty class for each gender.\n",
    "    - Plotted pie charts to visualize the distribution of casualty classes for males and females.\n"
   ]
  },
  {
   "cell_type": "code",
   "execution_count": null,
   "metadata": {
    "ExecuteTime": {
     "end_time": "2024-03-06T19:34:56.459439Z",
     "start_time": "2024-03-06T19:34:53.728930Z"
    }
   },
   "outputs": [],
   "source": [
    "# Separate data by gender\n",
    "male_data = df[df['sex_of_casualty'] == 1]\n",
    "female_data = df[df['sex_of_casualty'] == 2]\n",
    "\n",
    "# Get value counts for casualty class for each gender\n",
    "male_class_counts = male_data['casualty_class'].value_counts()\n",
    "female_class_counts = female_data['casualty_class'].value_counts()\n",
    "\n",
    "# Create subplots\n",
    "fig, (ax1, ax2) = plt.subplots(1, 2, figsize=(12, 6))\n",
    "\n",
    "# Plot pie chart for male casualties\n",
    "male_labels = [f\"{casualty_class[str(k)]} ({v})\" for k, v in male_class_counts.items()]\n",
    "ax1.pie(male_class_counts, labels=male_labels, autopct='%1.1f%%', startangle=140)\n",
    "ax1.set_title(f'Distribution of Male Casualties by Class\\nTotal:{len(male_data)}')\n",
    "\n",
    "# Plot pie chart for female casualties\n",
    "female_labels = [f\"{casualty_class[str(k)]} ({v})\" for k, v in female_class_counts.items()]\n",
    "ax2.pie(female_class_counts, labels=female_labels, autopct='%1.1f%%', startangle=140)\n",
    "ax2.set_title(f'Distribution of Female Casualties by Class\\nTotal:{len(female_data)}')\n",
    "\n",
    "# Equal aspect ratio ensures that pie is drawn as a circle\n",
    "ax1.axis('equal')\n",
    "ax2.axis('equal')\n",
    "\n",
    "plt.show()\n"
   ]
  },
  {
   "cell_type": "markdown",
   "metadata": {},
   "source": [
    "### Age Band and Severity Analysis\n",
    "\n",
    "- **Purpose:** Examine the severity of casualties across different age bands.\n",
    "\n",
    "- **Actions:**\n",
    "    - Grouped the data by age band and severity.\n",
    "    - Plotted a stacked bar chart to visualize the severity of casualties by age band.\n",
    "    - Added percentage labels to each bar to show the proportion of each severity level within each age band.\n"
   ]
  },
  {
   "cell_type": "code",
   "execution_count": null,
   "metadata": {
    "ExecuteTime": {
     "end_time": "2024-03-06T19:34:59.219148Z",
     "start_time": "2024-03-06T19:34:56.469468Z"
    }
   },
   "outputs": [],
   "source": [
    "# Analyze severity of casualties by age band\n",
    "grouped_data = df.groupby(['age_band_of_casualty', 'casualty_severity']).size().unstack(fill_value=0)\n",
    "grouped_data.columns = [casualty_severity[str(col)] for col in grouped_data.columns]\n",
    "grouped_data.index = [age_band_of_casualty[str(idx)] for idx in grouped_data.index]\n",
    "grouped_data = grouped_data.iloc[:, ::-1]\n",
    "\n",
    "ax = grouped_data.plot(kind='bar', stacked=True)\n",
    "plt.xlabel('Age Band of Casualty')\n",
    "plt.ylabel('Number of Casualties')\n",
    "plt.title('Severity of Casualties by Age Band')\n",
    "plt.legend(title='Severity')\n",
    "plt.xticks(rotation=45, ha='right')\n",
    "\n",
    "# Add percentage labels to each bar\n",
    "sum_of_each_bar = []\n",
    "for i in range(0, 11):\n",
    "    sum_of_each_bar.append((ax.patches[i].get_height()) + (ax.patches[i+11].get_height()) + (ax.patches[i+22].get_height()))\n",
    "\n",
    "for i in range(0, 33):\n",
    "    p = ax.patches[i]\n",
    "    width = p.get_width()\n",
    "    height = p.get_height()\n",
    "    x, y = p.get_xy()\n",
    "    ax.annotate(f'%{100*height/sum_of_each_bar[i%11]:.2f}', (x + width/2, y + height/2), ha='center', va='center', fontsize=6, color='black', weight='bold')\n",
    "\n",
    "plt.tight_layout()\n",
    "plt.show()\n"
   ]
  },
  {
   "cell_type": "markdown",
   "metadata": {},
   "source": [
    "### Pedestrian Movement and Severity Analysis\n",
    "\n",
    "- **Purpose:** Investigate the distribution of casualties based on pedestrian movement and severity.\n",
    "\n",
    "- **Actions:**\n",
    "    - Filtered the dataset to exclude codes '0' and '9' in pedestrian movement.\n",
    "    - Grouped the data by pedestrian movement and severity.\n",
    "    - Plotted a stacked bar chart to visualize the distribution of casualties by pedestrian movement and severity.\n",
    "    - Added count labels to each bar for better interpretation."
   ]
  },
  {
   "cell_type": "code",
   "execution_count": null,
   "metadata": {
    "ExecuteTime": {
     "end_time": "2024-03-06T19:35:00.494136Z",
     "start_time": "2024-03-06T19:34:59.224149Z"
    }
   },
   "outputs": [],
   "source": [
    "# Analyze distribution of casualties by pedestrian movement and severity\n",
    "filtered_df = df[~df['pedestrian_movement'].isin([0, 9])]\n",
    "grouped_data = filtered_df.groupby(['pedestrian_movement', 'casualty_severity']).size().unstack(fill_value=0)\n",
    "grouped_data.columns = [casualty_severity[str(col)] for col in grouped_data.columns]\n",
    "grouped_data.index = [pedestrian_movement[str(idx)] for idx in grouped_data.index]\n",
    "grouped_data = grouped_data.iloc[:, ::-1]\n",
    "\n",
    "ax = grouped_data.plot(kind='bar', stacked=True)\n",
    "plt.xlabel('Pedestrian Movement')\n",
    "plt.ylabel('Count')\n",
    "plt.title('Distribution of Casualties by Pedestrian Movement and Severity')\n",
    "plt.xticks(rotation=45, ha='right')\n",
    "\n",
    "# Add labels\n",
    "for bar in ax.patches:\n",
    "    width = bar.get_width()\n",
    "    height = bar.get_height()\n",
    "    x, y = bar.get_xy()\n",
    "    ax.annotate(f'{int(height)}', (x + width/2, y + 50), ha='center', va='center', fontsize=8, color='black')\n",
    "\n",
    "plt.legend(title='Severity', bbox_to_anchor=(1.05, 1), loc='upper left')\n",
    "plt.show()\n"
   ]
  },
  {
   "cell_type": "markdown",
   "metadata": {},
   "source": [
    "### Passenger Distribution Analysis\n",
    "\n",
    "- **Purpose:** Determine the proportion of casualties who were passengers in cars or buses/coaches.\n",
    "\n",
    "- **Actions:**\n",
    "    - Calculated the counts and percentages of casualties who were car passengers and bus/coach passengers.\n",
    "    - Plotted a pie chart to visualize the proportion of casualties who were passengers in different types of vehicles."
   ]
  },
  {
   "cell_type": "code",
   "execution_count": null,
   "metadata": {
    "ExecuteTime": {
     "end_time": "2024-03-06T19:35:00.713868Z",
     "start_time": "2024-03-06T19:35:00.497153Z"
    }
   },
   "outputs": [],
   "source": [
    "# Analyze proportion of casualties who were passengers\n",
    "car_passenger_count = df[df['car_passenger'] == 1].shape[0]\n",
    "bus_coach_passenger_count = df[df['bus_or_coach_passenger'] == 1].shape[0]\n",
    "total_casualties = len(df)\n",
    "\n",
    "car_passenger_percentage = (car_passenger_count / total_casualties) * 100\n",
    "bus_coach_passenger_percentage = (bus_coach_passenger_count / total_casualties) * 100\n",
    "\n",
    "labels = ['Car Passenger', 'Bus/Coach Passenger']\n",
    "sizes = [car_passenger_percentage, bus_coach_passenger_percentage]\n",
    "colors = ['skyblue', 'lightcoral']\n",
    "explode = (0, 0.1)\n",
    "\n",
    "plt.pie(sizes, explode=explode, labels=labels, colors=colors, autopct='%1.1f%%', startangle=140)\n",
    "plt.axis('equal')\n",
    "plt.title('Proportion of Casualties who were Passengers')\n",
    "plt.show()\n"
   ]
  },
  {
   "cell_type": "markdown",
   "metadata": {},
   "source": [
    "### Home Area Distribution Analysis\n",
    "\n",
    "- **Purpose:** Examine the distribution of casualties based on home area type.\n",
    "\n",
    "- **Actions:**\n",
    "    - Counted the number of casualties by home area type.\n",
    "    - Plotted a pie chart to visualize the distribution of casualties by home area type.\n"
   ]
  },
  {
   "cell_type": "code",
   "execution_count": null,
   "metadata": {
    "ExecuteTime": {
     "end_time": "2024-03-06T19:35:01.850269Z",
     "start_time": "2024-03-06T19:35:00.715885Z"
    }
   },
   "outputs": [],
   "source": [
    "# Analyze distribution of casualties by home area type\n",
    "value_counts = df['casualty_home_area_type'].value_counts()\n",
    "x_labels = [casualty_home_area_type[str(val)] for val in value_counts.index]\n",
    "\n",
    "plt.pie(value_counts, labels=x_labels, autopct='%1.1f%%', startangle=140)\n",
    "plt.axis('equal')\n",
    "plt.title('Distribution of Casualties by Home Area')\n",
    "plt.show()\n"
   ]
  },
  {
   "cell_type": "markdown",
   "metadata": {},
   "source": [
    "### Vehicle Type Distribution Analysis\n",
    "\n",
    "- **Purpose:** Explore the distribution of casualties by the type of vehicle involved.\n",
    "\n",
    "- **Actions:**\n",
    "    - Counted the number of casualties by the type of vehicle.\n",
    "    - Plotted a bar chart to visualize the distribution of casualties by the type of vehicle involved.\n"
   ]
  },
  {
   "cell_type": "code",
   "execution_count": null,
   "metadata": {
    "ExecuteTime": {
     "end_time": "2024-03-06T19:35:06.103265Z",
     "start_time": "2024-03-06T19:35:01.858315Z"
    }
   },
   "outputs": [],
   "source": [
    "# Analyze distribution of casualties by type of vehicle\n",
    "vehicle_counts = df['casualty_type'].value_counts()\n",
    "vehicle_counts.index = [casualty_type[str(idx)] for idx in vehicle_counts.index]\n",
    "\n",
    "vehicle_counts.plot(kind='bar', color='skyblue')\n",
    "plt.xlabel('Type of Vehicle')\n",
    "plt.ylabel('Number of Casualties')\n",
    "plt.title('Distribution of Casualties by Type of Vehicle')\n",
    "plt.xticks(rotation=90)\n",
    "plt.show()\n"
   ]
  },
  {
   "cell_type": "markdown",
   "metadata": {},
   "source": [
    "### IMD Decile and Casualty Severity Analysis\n",
    "\n",
    "- **Purpose:** Investigate the distribution of casualty severity across different IMD (Index of Multiple Deprivation) deciles.\n",
    "\n",
    "- **Actions:**\n",
    "    - Grouped the data by IMD decile and casualty severity.\n",
    "    - Plotted a boxplot to visualize the distribution of casualty severity across IMD deciles.\n"
   ]
  },
  {
   "cell_type": "code",
   "execution_count": null,
   "metadata": {
    "ExecuteTime": {
     "end_time": "2024-03-06T19:35:06.771619Z",
     "start_time": "2024-03-06T19:35:06.107278Z"
    }
   },
   "outputs": [],
   "source": [
    "# Analyze distribution of casualty severity across IMD deciles\n",
    "grouped_data = df.groupby(['casualty_imd_decile', 'casualty_severity']).size().unstack(fill_value=0)\n",
    "grouped_data.columns = [casualty_severity[str(col)] for col in grouped_data.columns]\n",
    "\n",
    "plt.figure(figsize=(10, 6))\n",
    "grouped_data.boxplot()\n",
    "plt.xlabel('IMD Decile')\n",
    "plt.ylabel('Number of Casualties')\n",
    "plt.title('Distribution of Casualty Severity Across IMD Deciles')\n",
    "plt.xticks(rotation=45, ha='right')\n",
    "plt.tight_layout()\n",
    "plt.show()\n"
   ]
  },
  {
   "cell_type": "markdown",
   "metadata": {},
   "source": [
    "### Pedestrian Location and Movement Analysis\n",
    "\n",
    "- **Purpose:** Examine the distribution of pedestrian location and movement during accidents.\n",
    "\n",
    "- **Actions:**\n",
    "    - Filtered the dataset to exclude codes '0', '9', and '-1' in pedestrian movement and location.\n",
    "    - Grouped the data by pedestrian location and movement.\n",
    "    - Plotted a stacked bar chart to visualize the distribution of pedestrian location and movement during accidents.\n"
   ]
  },
  {
   "cell_type": "code",
   "execution_count": null,
   "metadata": {
    "ExecuteTime": {
     "end_time": "2024-03-06T19:35:08.329905Z",
     "start_time": "2024-03-06T19:35:06.775631Z"
    }
   },
   "outputs": [],
   "source": [
    "# Analyze distribution of pedestrian location and movement during accidents\n",
    "filtered_df = df[~df['pedestrian_movement'].isin([0, 9, -1])]\n",
    "filtered_df = filtered_df[~filtered_df['pedestrian_location'].isin([0, 9, -1])]\n",
    "grouped_data = filtered_df.groupby(['pedestrian_location', 'pedestrian_movement']).size().unstack(fill_value=0)\n",
    "grouped_data.index = [pedestrian_location[str(idx)] for idx in grouped_data.index]\n",
    "grouped_data.columns = [pedestrian_movement[str(col)] for col in grouped_data.columns]\n",
    "\n",
    "plt.figure(figsize=(10, 6))\n",
    "grouped_data.plot(kind='bar', stacked=True)\n",
    "plt.xlabel('Pedestrian Location')\n",
    "plt.ylabel('Number of Accidents')\n",
    "plt.title('Distribution of Pedestrian Location and Movement during Accidents')\n",
    "plt.xticks(rotation=45, ha='right')\n",
    "plt.legend(title='Pedestrian Movement', bbox_to_anchor=(1.05, 0.5), loc='center left', ncol=1)\n",
    "plt.show()\n"
   ]
  },
  {
   "cell_type": "markdown",
   "metadata": {},
   "source": [
    "### LOSA and Casualty Class Analysis\n",
    "\n",
    "- **Purpose:** Analyze the distribution of casualties across different Lower Layer Super Output Areas (LOSA) by casualty class.\n",
    "\n",
    "- **Actions:**\n",
    "    - Merged the dataset with LOSA codes to obtain the LOSA names.\n",
    "    - Grouped the data by LOSA name and casualty class.\n",
    "    - Plotted a stacked bar chart to visualize the distribution of casualties across different LOSA by casualty class.\n"
   ]
  },
  {
   "cell_type": "code",
   "execution_count": null,
   "metadata": {
    "ExecuteTime": {
     "end_time": "2024-03-06T19:35:14.076619Z",
     "start_time": "2024-03-06T19:35:08.332905Z"
    }
   },
   "outputs": [],
   "source": [
    "# Merge the dataset with LOSA codes and analyze casualty distribution across different LOSA by casualty class\n",
    "loca_df = pd.read_csv('LOSA_Codes.csv')\n",
    "loca_df['Names'] = loca_df['Names'].str[:-5]\n",
    "merged_df = pd.merge(df, loca_df, left_on='lsoa_of_casualty', right_on='Codes', how='left')\n",
    "\n",
    "grouped_data = merged_df.groupby(['Names', 'casualty_class']).size().unstack(fill_value=0)\n",
    "grouped_data.columns = [casualty_severity[str(col)] for col in grouped_data.columns]\n",
    "\n",
    "plt.figure(figsize=(18, 6))\n",
    "grouped_data.plot(kind='bar', stacked=True)\n",
    "plt.xlabel('LOSA Name')\n",
    "plt.ylabel('Number of Casualties')\n",
    "plt.title('Distribution of Casualties across Different LOSA by Casualty Class')\n",
    "plt.xticks(rotation=45, ha='right')\n",
    "plt.show()"
   ]
  },
  {
   "cell_type": "markdown",
   "metadata": {},
   "source": [
    "### Total Casualties by LOSA\n",
    "\n",
    "- **Purpose:** Calculate the total number of casualties for each Lower Layer Super Output Area (LOSA).\n",
    "\n",
    "- **Actions:**\n",
    "    - Summed up the casualties for each LOSA.\n",
    "    - Converted the Series to a DataFrame.\n",
    "    - Displayed the total casualties by LOSA.\n"
   ]
  },
  {
   "cell_type": "code",
   "execution_count": null,
   "metadata": {
    "ExecuteTime": {
     "end_time": "2024-03-06T19:35:14.114331Z",
     "start_time": "2024-03-06T19:35:14.081631Z"
    }
   },
   "outputs": [],
   "source": [
    "# Calculate the total number of casualties for each LOSA\n",
    "grouped_data = grouped_data.sum(axis=1)\n",
    "\n",
    "# Convert the Series to DataFrame\n",
    "grouped_data = grouped_data.reset_index()\n",
    "\n",
    "# Rename the columns if needed\n",
    "grouped_data.columns = ['Names', 'Counts']\n",
    "\n",
    "# Display the DataFrame\n",
    "grouped_data\n"
   ]
  },
  {
   "cell_type": "markdown",
   "metadata": {},
   "source": [
    "### Map Visualization\n",
    "\n",
    "- **Purpose:** Visualize the distribution of casualties across different locations using a map.\n",
    "\n",
    "- **Actions:**\n",
    "    - Used Folium to create an interactive map.\n",
    "    - Added markers for each location with a popup showing the town name and casualty count.\n",
    "    - Saved the map as an HTML file for further analysis.\n"
   ]
  },
  {
   "cell_type": "code",
   "execution_count": null,
   "metadata": {
    "ExecuteTime": {
     "end_time": "2024-03-06T19:36:29.979910Z",
     "start_time": "2024-03-06T19:35:14.117340Z"
    }
   },
   "outputs": [],
   "source": [
    "# Function to get latitude and longitude for a town using OpenStreetMap Nominatim API\n",
    "def get_coordinates(town):\n",
    "    geolocator = Nominatim(user_agent=\"my_geocoder\")\n",
    "    location = geolocator.geocode(town)\n",
    "    if location:\n",
    "        return location.latitude, location.longitude\n",
    "    else:\n",
    "        print(f\"Failed to get coordinates for {town}\")\n",
    "\n",
    "df_map = grouped_data\n",
    "# Apply the function to each town in the DataFrame to get coordinates\n",
    "df_map['Latitude'], df_map['Longitude'] = zip(*df_map['Names'].apply(get_coordinates))\n",
    "\n",
    "# Create a folium map\n",
    "m = folium.Map(location=[51.5074, -0.1278], zoom_start=9)\n",
    "\n",
    "# Define a color palette for markers\n",
    "colors = ['blue', 'green', 'red', 'purple', 'orange', 'darkred', 'lightred', 'beige', 'darkblue', \n",
    "          'darkgreen', 'cadetblue', 'darkpurple', 'pink', 'lightblue', 'lightgreen', 'gray', 'black']\n",
    "# Add markers for each town with popup showing the town name and count\n",
    "for _, row in df_map.iterrows():\n",
    "    town = row['Names']\n",
    "    frequency = row['Counts']\n",
    "    color_index = min(frequency // 30, len(colors) - 1)  # Use the color index based on frequency, capped at the length of colors list\n",
    "    color = colors[color_index]\n",
    "    popup_text = f\"{town} ({frequency})\"\n",
    "    folium.Marker([row['Latitude'], row['Longitude']], popup=popup_text, icon=folium.Icon(color=color)).add_to(m)\n",
    "# Display the map\n",
    "m.save(\"map.html\")  # Save the map as an HTML file\n",
    "m"
   ]
  },
  {
   "cell_type": "markdown",
   "metadata": {},
   "source": [
    "## Machine Learning and Modeling"
   ]
  },
  {
   "cell_type": "markdown",
   "metadata": {},
   "source": [
    "## Data Preparation"
   ]
  },
  {
   "cell_type": "code",
   "execution_count": null,
   "metadata": {},
   "outputs": [],
   "source": [
    "from sklearn.preprocessing import StandardScaler\n",
    "from sklearn.model_selection import train_test_split, GridSearchCV\n",
    "from sklearn.metrics import accuracy_score, classification_report, confusion_matrix\n",
    "\n",
    "df.drop(inplace=True, columns=['lsoa_of_casualty'])\n",
    "X = df.drop(columns=['casualty_severity'])\n",
    "y = df['casualty_severity']\n",
    "\n",
    "# Split data into train and test sets\n",
    "X_train, X_test, y_train, y_test = train_test_split(X, y, test_size=0.2, random_state=42)\n",
    "\n",
    "# Data scaling\n",
    "scaler = StandardScaler()\n",
    "X_train_scaled = scaler.fit_transform(X_train)\n",
    "X_test_scaled = scaler.transform(X_test)"
   ]
  },
  {
   "cell_type": "markdown",
   "metadata": {},
   "source": [
    "## Principal Component Analysis (PCA)\n",
    "**Components Counts:** 10\n",
    "### Purpose:\n",
    "Principal Component Analysis (PCA) is a dimensionality reduction technique used to transform high-dimensional data into a lower-dimensional space while preserving the maximum amount of variance. Its primary purpose is to simplify the dataset by identifying the most important features and reducing redundancy, which can help improve model performance and interpretability.\n",
    "\n",
    "### Action:\n",
    "1. Standardize the features by scaling them to have a mean of 0 and a standard deviation of 1 to ensure that all features contribute equally to the analysis.\n",
    "2. Compute the covariance matrix of the standardized features, which represents the pairwise relationships between features.\n",
    "3. Perform eigendecomposition on the covariance matrix to obtain the eigenvectors and eigenvalues.\n",
    "4. Sort the eigenvectors by their corresponding eigenvalues in descending order to prioritize the principal components that capture the most variance.\n",
    "5. Select the top k eigenvectors (principal components) that explain the majority of the variance in the data, where k is the desired dimensionality of the reduced space.\n",
    "6. Project the original data onto the selected principal components to obtain the lower-dimensional representation of the dataset.\n",
    "7. Optionally, assess the cumulative explained variance ratio to determine how much information is retained in the reduced space compared to the original dataset."
   ]
  },
  {
   "cell_type": "code",
   "execution_count": null,
   "metadata": {},
   "outputs": [],
   "source": [
    "from sklearn.decomposition import PCA\n",
    "# Perform PCA\n",
    "pca = PCA(n_components=10)\n",
    "X_train_pca = pca.fit_transform(X_train_scaled)\n",
    "X_test_pca = pca.transform(X_test_scaled)"
   ]
  },
  {
   "cell_type": "markdown",
   "metadata": {},
   "source": [
    "### Random Forest Classifier\n",
    "\n",
    "#### Purpose:\n",
    "Random Forest is an ensemble learning method that combines multiple decision trees to create a robust and accurate model for classification tasks. Its primary purpose is to improve prediction accuracy and handle complex datasets by aggregating the predictions of multiple individual decision trees.\n",
    "\n",
    "#### Action:\n",
    "1. Train multiple decision trees independently on random subsets of the training data (bootstrap samples).\n",
    "2. Randomly select a subset of features at each node of the decision trees to introduce diversity and reduce overfitting.\n",
    "3. Grow each decision tree to its maximum depth or until a minimum number of samples per leaf node is reached.\n",
    "4. Aggregate the predictions of all decision trees by either averaging the class probabilities (for classification) or taking the majority vote (for classification).\n",
    "5. The final prediction is based on the aggregated results, resulting in a more robust and accurate classification model.\n"
   ]
  },
  {
   "cell_type": "code",
   "execution_count": null,
   "metadata": {},
   "outputs": [],
   "source": [
    "from sklearn.ensemble import RandomForestClassifier\n",
    "\n",
    "# Random Forest\n",
    "param_grid_rf = {\n",
    "    'n_estimators': [100, 200, 300],\n",
    "    'max_depth': [10, 20, 30, None],\n",
    "    'min_samples_split': [2, 5, 10],\n",
    "    'min_samples_leaf': [1, 2, 4],\n",
    "    'bootstrap': [True, False]\n",
    "}\n",
    "\n",
    "rf_grid = GridSearchCV(RandomForestClassifier(random_state=42), param_grid_rf, cv=5, verbose=1, n_jobs=-1)\n",
    "rf_grid.fit(X_train_pca, y_train)\n",
    "\n",
    "best_rf = rf_grid.best_estimator_\n",
    "y_pred_rf = best_rf.predict(X_test_pca)\n",
    "accuracy_rf = accuracy_score(y_test, y_pred_rf)\n",
    "print(\"Random Forest Accuracy:\", accuracy_rf)\n",
    "\n",
    "print(\"Random Forest Best Parameters:\")\n",
    "print(rf_grid.best_params_)\n",
    "\n",
    "print(\"Random Forest Classification Report:\")\n",
    "print(classification_report(y_test, y_pred_rf))\n",
    "\n",
    "print(\"Random Forest Confusion Matrix:\")\n",
    "print(confusion_matrix(y_test, y_pred_rf))\n"
   ]
  },
  {
   "cell_type": "markdown",
   "metadata": {},
   "source": [
    "### Logistic Regression\n",
    "\n",
    "#### Purpose:\n",
    "Logistic Regression is a statistical method used for binary classification tasks, where the target variable has two possible outcomes. Its primary purpose is to model the probability of a binary outcome based on one or more predictor variables. Despite its name, logistic regression is a linear model that applies a logistic function to the linear combination of input features.\n",
    "\n",
    "#### Action:\n",
    "1. Calculate the log odds of the probability of the positive outcome using a linear combination of the input features and their corresponding coefficients.\n",
    "2. Apply the logistic (sigmoid) function to the log odds to obtain the predicted probabilities of the positive outcome.\n",
    "3. Use a threshold (usually 0.5) to classify instances into one of the two classes based on the predicted probabilities.\n",
    "4. Estimate the coefficients of the logistic regression model using maximum likelihood estimation or other optimization techniques.\n",
    "5. Regularize the model to prevent overfitting by adding penalty terms to the cost function, such as L1 or L2 regularization.\n"
   ]
  },
  {
   "cell_type": "code",
   "execution_count": null,
   "metadata": {},
   "outputs": [],
   "source": [
    "from sklearn.linear_model import LogisticRegression\n",
    "\n",
    "# Logistic Regression\n",
    "param_grid_lr = {\n",
    "    'C': [0.001, 0.01, 0.1, 1, 10, 100],\n",
    "    'penalty': ['l1', 'l2']\n",
    "}\n",
    "\n",
    "lr_grid = GridSearchCV(LogisticRegression(solver='liblinear', random_state=42), param_grid_lr, cv=5, verbose=1, n_jobs=-1)\n",
    "lr_grid.fit(X_train_pca, y_train)\n",
    "\n",
    "best_lr = lr_grid.best_estimator_\n",
    "y_pred_lr = best_lr.predict(X_test_pca)\n",
    "accuracy_lr = accuracy_score(y_test, y_pred_lr)\n",
    "print(\"Logistic Regression Accuracy:\", accuracy_lr)\n",
    "\n",
    "print(\"Logistic Regression Best Parameters:\")\n",
    "print(lr_grid.best_params_)\n",
    "\n",
    "print(\"Logistic Regression Classification Report:\")\n",
    "print(classification_report(y_test, y_pred_lr))\n",
    "\n",
    "print(\"Logistic Regression Confusion Matrix:\")\n",
    "print(confusion_matrix(y_test, y_pred_lr))\n"
   ]
  },
  {
   "cell_type": "markdown",
   "metadata": {},
   "source": [
    "### Support Vector Machine (SVM)\n",
    "\n",
    "#### Purpose:\n",
    "Support Vector Machine is a supervised learning algorithm used for both classification and regression tasks. Its primary purpose in classification is to find the hyperplane that best separates the classes in the feature space while maximizing the margin between the classes. SVM is effective in handling high-dimensional data and is robust to overfitting.\n",
    "\n",
    "#### Action:\n",
    "1. Find the optimal hyperplane that separates the classes by maximizing the margin between the support vectors (instances closest to the decision boundary).\n",
    "2. Transform the input features into a higher-dimensional space using the kernel trick, if necessary, to make the classes separable.\n",
    "3. Classify new instances based on which side of the hyperplane they fall on in the transformed feature space.\n",
    "4. Handle non-linearly separable data by using different types of kernel functions (e.g., linear, polynomial, radial basis function) to map the data into a higher-dimensional space where linear separation is possible.\n",
    "5. Tune hyperparameters such as the regularization parameter (C) and the kernel parameters to optimize the performance of the SVM model."
   ]
  },
  {
   "cell_type": "code",
   "execution_count": null,
   "metadata": {},
   "outputs": [],
   "source": [
    "from sklearn.svm import SVC\n",
    "\n",
    "# SVM\n",
    "param_grid_svm = {\n",
    "    'C': [0.1, 1, 10, 100],\n",
    "    'gamma': [1, 0.1, 0.01, 0.001],\n",
    "    'kernel': ['rbf', 'linear']\n",
    "}\n",
    "\n",
    "svm_grid = GridSearchCV(SVC(random_state=42), param_grid_svm, cv=5, verbose=1, n_jobs=-1)\n",
    "svm_grid.fit(X_train_pca, y_train)\n",
    "\n",
    "best_svm = svm_grid.best_estimator_\n",
    "y_pred_svm = best_svm.predict(X_test_pca)\n",
    "accuracy_svm = accuracy_score(y_test, y_pred_svm)\n",
    "print(\"SVM Accuracy:\", accuracy_svm)\n",
    "\n",
    "print(\"SVM Best Parameters:\")\n",
    "print(svm_grid.best_params_)\n",
    "\n",
    "print(\"SVM Classification Report:\")\n",
    "print(classification_report(y_test, y_pred_svm))\n",
    "\n",
    "print(\"SVM Confusion Matrix:\")\n",
    "print(confusion_matrix(y_test, y_pred_svm))"
   ]
  }
 ],
 "metadata": {
  "kernelspec": {
   "display_name": "Python 3 (ipykernel)",
   "language": "python",
   "name": "python3"
  },
  "language_info": {
   "codemirror_mode": {
    "name": "ipython",
    "version": 3
   },
   "file_extension": ".py",
   "mimetype": "text/x-python",
   "name": "python",
   "nbconvert_exporter": "python",
   "pygments_lexer": "ipython3",
   "version": "3.11.5"
  }
 },
 "nbformat": 4,
 "nbformat_minor": 4
}
